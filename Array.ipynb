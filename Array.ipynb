{
 "cells": [
  {
   "cell_type": "markdown",
   "metadata": {},
   "source": [
    "### 15. 3Sum\n",
    "Given an array nums of n integers, are there elements a, b, c in nums such that a + b + c = 0? Find all unique triplets in the array which gives the sum of zero.\n",
    "\n",
    "The solution set must not contain duplicate triplets.\n",
    "\n",
    "Given array nums = [-1, 0, 1, 2, -1, -4],\n",
    "\n",
    "A solution set is:\n",
    "[\n",
    "  [-1, 0, 1],\n",
    "  [-1, -1, 2]\n",
    "]"
   ]
  },
  {
   "cell_type": "code",
   "execution_count": 47,
   "metadata": {},
   "outputs": [],
   "source": [
    "def threeSum(nums):\n",
    "    \"\"\"\n",
    "    :type nums: List[int]\n",
    "    :rtype: List[List[int]]\n",
    "    Given an array nums of n integers, are there elements a, b, c in nums such that a + b + c = 0? \n",
    "    Find all unique triplets in the array which gives the sum of zero.\n",
    "    Note: The solution set must not contain duplicate triplets.\n",
    "    \"\"\"\n",
    "    sol_sets = []\n",
    "    nums.sort()\n",
    "\n",
    "    for i in range(len(nums)-2):\n",
    "        if i > 0 and nums[i] == nums[i-1]:\n",
    "            continue             \n",
    "        j, k = i + 1, len(nums)-1\n",
    "        while j < k:\n",
    "            s = nums[i] + nums[j] + nums[k]\n",
    "            if s < 0:\n",
    "                j += 1\n",
    "            elif s > 0:\n",
    "                k -= 1\n",
    "            else:\n",
    "                sol_sets.append((nums[i], nums[j], nums[k]))\n",
    "                while j < k and nums[j] == nums[j + 1]:\n",
    "                    j += 1\n",
    "                while j < k and nums[k] == nums[k - 1]:\n",
    "                    k -= 1\n",
    "                j += 1; i -= 1\n",
    "\n",
    "    return sol_sets"
   ]
  },
  {
   "cell_type": "code",
   "execution_count": 48,
   "metadata": {},
   "outputs": [
    {
     "data": {
      "text/plain": [
       "[(-1, -1, 2)]"
      ]
     },
     "execution_count": 48,
     "metadata": {},
     "output_type": "execute_result"
    }
   ],
   "source": [
    "threeSum(nums = [-1,0,1,2,-1,-4])"
   ]
  },
  {
   "cell_type": "markdown",
   "metadata": {},
   "source": [
    "### 16. 3Sum Closest        \n",
    "Given an array nums of n integers and an integer target, \n",
    "find three integers in nums such that the sum is closest to target. \n",
    "Return the sum of the three integers. \n",
    "You may assume that each input would have exactly one solution.\n",
    "\n",
    "Eg: Given array nums = [-1, 2, 1, -4], and target = 1.\n",
    "The sum that is closest to the target is 2. (-1 + 2 + 1 = 2)."
   ]
  },
  {
   "cell_type": "code",
   "execution_count": 36,
   "metadata": {},
   "outputs": [],
   "source": [
    "def threeSumClosest(nums, target):\n",
    "    \"\"\"\n",
    "    :type nums: List[int]\n",
    "    :type target: int\n",
    "    :rtype: int\n",
    "    \"\"\"\n",
    "    nums.sort()\n",
    "    sum_int = 0\n",
    "    tar_diff = 0\n",
    "    sum_que = []\n",
    "    for i in range(len(nums)-2):\n",
    "\n",
    "        j, k = i+1, len(nums)-1            \n",
    "        while j < k:           \n",
    "            sum_now = nums[i] + nums[j] + nums[k]\n",
    "            diff_now = abs(sum_now - target)\n",
    "\n",
    "            if not sum_que:\n",
    "                tar_diff = diff_now\n",
    "                sum_int = sum_now\n",
    "                sum_que.append(nums[i])\n",
    "                sum_que.append(nums[j])\n",
    "                sum_que.append(nums[k])\n",
    "            elif diff_now < tar_diff:\n",
    "                tar_diff = diff_now\n",
    "                sum_int = sum_now\n",
    "\n",
    "            if sum_now < target:\n",
    "                j += 1    \n",
    "            elif sum_now > target:\n",
    "                k -= 1\n",
    "            else:\n",
    "                return sum_now\n",
    "\n",
    "    return sum_int"
   ]
  },
  {
   "cell_type": "code",
   "execution_count": 37,
   "metadata": {},
   "outputs": [
    {
     "data": {
      "text/plain": [
       "2"
      ]
     },
     "execution_count": 37,
     "metadata": {},
     "output_type": "execute_result"
    }
   ],
   "source": [
    "threeSumClosest([-1, 2, 1, -4], 1)"
   ]
  },
  {
   "cell_type": "markdown",
   "metadata": {},
   "source": [
    "### 18. 4Sum\n",
    "Given an array nums of n integers and an integer target, are there elements a, b, c, and d in nums \n",
    "such that a + b + c + d = target? Find all unique quadruplets in the array which gives the sum of target.\n",
    "\n",
    "The solution set must not contain duplicate quadruplets.\n",
    "\n",
    "Given array nums = [1, 0, -1, 0, -2, 2], and target = 0.\n",
    "\n",
    "A solution set is:\n",
    "[\n",
    "  [-1,  0, 0, 1],\n",
    "  [-2, -1, 1, 2],\n",
    "  [-2,  0, 0, 2]\n",
    "]"
   ]
  },
  {
   "cell_type": "code",
   "execution_count": 33,
   "metadata": {},
   "outputs": [],
   "source": [
    "def fourSum(nums, target):\n",
    "    \"\"\"\n",
    "    :type nums: List[int]\n",
    "    :type target: int\n",
    "    :rtype: List[List[int]]\n",
    "\n",
    "    \"\"\"\n",
    "    sol_sets = []\n",
    "    nums.sort()\n",
    "\n",
    "    for i in range(len(nums) - 3):            \n",
    "        for j in range(i + 1, len(nums)-2):\n",
    "            k, l = j + 1, len(nums)-1        \n",
    "            while i < j < k < l:\n",
    "                s = nums[i] + nums[j] + nums[k] + nums[l]\n",
    "                if s < target:\n",
    "                    k += 1\n",
    "                elif s > target:\n",
    "                    l -= 1\n",
    "                else:\n",
    "                    if (nums[i], nums[j], nums[k], nums[l]) not in sol_sets:\n",
    "                        sol_sets.append((nums[i], nums[j], nums[k], nums[l]))\n",
    "                    while k < l and nums[k] == nums[k+1]:\n",
    "                        k += 1\n",
    "                    while k < l and nums[l] == nums[l-1]:\n",
    "                        l -= 1\n",
    "                    k += 1; l -= 1\n",
    "\n",
    "    return sol_sets"
   ]
  },
  {
   "cell_type": "code",
   "execution_count": 34,
   "metadata": {},
   "outputs": [
    {
     "data": {
      "text/plain": [
       "[(-2, -1, 1, 2), (-2, 0, 0, 2), (-1, 0, 0, 1)]"
      ]
     },
     "execution_count": 34,
     "metadata": {},
     "output_type": "execute_result"
    }
   ],
   "source": [
    "fourSum([1, 0, -1, 0, -2, 2], 0)"
   ]
  },
  {
   "cell_type": "markdown",
   "metadata": {},
   "source": [
    "### 870. Advantage Shuffle\n",
    "Given two arrays A and B of equal size, the advantage of A with respect to B is the number of indices i for which A[i] > B[i].\n",
    "Return any permutation of A that maximizes its advantage with respect to B.\n",
    "Input: A = [2,7,11,15], B = [1,10,4,11]\n",
    "Output: [2,11,7,15]"
   ]
  },
  {
   "cell_type": "code",
   "execution_count": 20,
   "metadata": {},
   "outputs": [
    {
     "name": "stdout",
     "output_type": "stream",
     "text": [
      "0\n"
     ]
    }
   ],
   "source": [
    "#defaultdict means that if a key is not found in the dictionary, \n",
    "#then instead of a KeyError being thrown, a new entry is created. The type of this new entry is given by the argument of defaultdict.\n",
    "from collections import defaultdict\n",
    "somedict = {}\n",
    "#print(somedict[3]) # KeyError\n",
    "someddict = defaultdict(int)\n",
    "print(someddict[3])"
   ]
  },
  {
   "cell_type": "code",
   "execution_count": 21,
   "metadata": {},
   "outputs": [],
   "source": [
    "'''\n",
    "1. Sort A\n",
    "2. For every element b in B from big to small, if A[-1] > b, then this b will take A.pop()\n",
    "3. Assign all elements in B an element from take or the rest of A.\n",
    "Time Complexity: O(NlogN)\n",
    "'''\n",
    "import collections\n",
    "#写法解析：把 A和B都从小到大排好，对于B中元素倒序看，只要A中倒数第一大的元素大于B，就pop A中元素给dictionary里对应位置，\n",
    "#对于B中没有对应到的元素，直接返回a中剩余的最小元素\n",
    "def advantageCount(A, B):\n",
    "    A = sorted(A) # sorted can return a list or some other type of data\n",
    "    take = collections.defaultdict(list)\n",
    "    for b in sorted(B)[::-1]: #[::-1] means it starts from the end, towards the first, taking each element)(here big to small)\n",
    "        if b < A[-1]: \n",
    "            take[b].append(A.pop()) #b is the key\n",
    "    return [(take[b] or A).pop() for b in B] #if take[b] is empty, then pop A"
   ]
  },
  {
   "cell_type": "code",
   "execution_count": 29,
   "metadata": {},
   "outputs": [
    {
     "data": {
      "text/plain": [
       "[7, 9, 2, 15]"
      ]
     },
     "execution_count": 29,
     "metadata": {},
     "output_type": "execute_result"
    }
   ],
   "source": [
    "A = [2,7,9,15]\n",
    "B = [1,4,10,11]\n",
    "advantageCount(A, B)"
   ]
  },
  {
   "cell_type": "markdown",
   "metadata": {},
   "source": [
    "### 565. Array Nesting\n",
    "\n",
    "A zero-indexed array A of length N contains all integers from 0 to N-1. Find and return the longest length of set S, where S[i] = {A[i], A[A[i]], A[A[A[i]]], ... } subjected to the rule below.\n",
    "\n",
    "Suppose the first element in S starts with the selection of element A[i] of index = i, the next element in S should be A[A[i]], and then A[A[A[i]]]… By that analogy, we stop adding right before a duplicate element occurs in S.\n",
    "\n",
    "Input: A = [5,4,0,3,1,6,2]\n",
    "Output: 4\n",
    "Explanation: \n",
    "A[0] = 5, A[1] = 4, A[2] = 0, A[3] = 3, A[4] = 1, A[5] = 6, A[6] = 2.\n",
    "\n",
    "One of the longest S[K]:\n",
    "S[0] = {A[0], A[5], A[6], A[2]} = {5, 6, 2, 0}"
   ]
  },
  {
   "cell_type": "code",
   "execution_count": 43,
   "metadata": {},
   "outputs": [],
   "source": [
    "def arrayNesting(nums):\n",
    "    \"\"\"\n",
    "    :type nums: List[int]\n",
    "    :rtype: int\n",
    "    \"\"\"\n",
    "    ans, step, n = 0, 0, len(nums)\n",
    "    seen = [False] * n\n",
    "    #对于list中每一个元素都可以当作第一个，然后看能不能接替下去，把每个里最多的step数和当前的ans对比，哪个大就保存哪个\n",
    "    for i in range(n):\n",
    "        while not seen[i]:\n",
    "            seen[i] = True\n",
    "            i, step = nums[i], step + 1\n",
    "        ans = max(ans, step)\n",
    "        step = 0\n",
    "    return ans"
   ]
  },
  {
   "cell_type": "code",
   "execution_count": 44,
   "metadata": {},
   "outputs": [],
   "source": [
    "A = [5,4,0,3,1,6,2]"
   ]
  },
  {
   "cell_type": "markdown",
   "metadata": {},
   "source": [
    "### 561. Array Partition I\n",
    "\n",
    "Given an array of 2n integers, your task is to group these integers into n pairs of integer, say (a1, b1), (a2, b2), ..., (an, bn) which makes sum of min(ai, bi) for all i from 1 to n as large as possible.\n",
    "\n",
    "Example 1:\n",
    "\n",
    "Input: [1,4,3,2]\n",
    "\n",
    "Output: 4\n",
    "Explanation: n is 2, and the maximum sum of pairs is 4 = min(1, 2) + min(3, 4)."
   ]
  },
  {
   "cell_type": "code",
   "execution_count": 50,
   "metadata": {},
   "outputs": [],
   "source": [
    "def arrayPairSum(nums):\n",
    "    \"\"\"\n",
    "    :type nums: List[int]\n",
    "    :rtype: int\n",
    "    \"\"\"\n",
    "    n = len(nums)/2\n",
    "    su = 0\n",
    "    nums = sorted(nums)\n",
    "    for i in range(0, len(nums), 2):\n",
    "        su += nums[i]\n",
    "    return su"
   ]
  },
  {
   "cell_type": "code",
   "execution_count": 51,
   "metadata": {},
   "outputs": [
    {
     "data": {
      "text/plain": [
       "4"
      ]
     },
     "execution_count": 51,
     "metadata": {},
     "output_type": "execute_result"
    }
   ],
   "source": [
    "arrayPairSum([1,4,3,2])"
   ]
  },
  {
   "cell_type": "markdown",
   "metadata": {},
   "source": [
    "### 667. Beautiful Arrangement II\n",
    "Given two integers n and k, you need to construct a list which contains n different positive integers ranging from 1 to n and obeys the following requirement: \n",
    "Suppose this list is [a1, a2, a3, ... , an], then the list [|a1 - a2|, |a2 - a3|, |a3 - a4|, ... , |an-1 - an|] has exactly k distinct integers.\n",
    "\n",
    "If there are multiple answers, print any of them.\n",
    "\n",
    "Example 1:\n",
    "\n",
    "Input: n = 3, k = 1\n",
    "Output: [1, 2, 3]\n",
    "Explanation: The [1, 2, 3] has three different positive integers ranging from 1 to 3, and the [1, 1] has exactly 1 distinct integer: 1.\n",
    "Example 2:\n",
    "\n",
    "Input: n = 3, k = 2\n",
    "Output: [1, 3, 2]\n",
    "Explanation: The [1, 3, 2] has three different positive integers ranging from 1 to 3, and the [2, 1] has exactly 2 distinct integers: 1 and 2.\n"
   ]
  },
  {
   "cell_type": "code",
   "execution_count": 69,
   "metadata": {},
   "outputs": [],
   "source": [
    "def constructArray(n, k):\n",
    "    \"\"\"\n",
    "    :type n: int\n",
    "    :type k: int\n",
    "    :rtype: List[int]\n",
    "    \"\"\"\n",
    "    sol = list(range(1, n+1))    \n",
    "    if k > 1:\n",
    "        step = 2\n",
    "        for i in range(1, min(k+1, n)):\n",
    "            print(i)\n",
    "            new_num = sol[i-1] + step\n",
    "            print(new_num)\n",
    "            sol[new_num - 1] = sol[i]\n",
    "            sol[i] = new_num\n",
    "            step += 1\n",
    "        \n",
    "    return sol"
   ]
  },
  {
   "cell_type": "code",
   "execution_count": 70,
   "metadata": {},
   "outputs": [
    {
     "name": "stdout",
     "output_type": "stream",
     "text": [
      "2\n",
      "4\n"
     ]
    },
    {
     "ename": "IndexError",
     "evalue": "list assignment index out of range",
     "output_type": "error",
     "traceback": [
      "\u001b[0;31m---------------------------------------------------------------------------\u001b[0m",
      "\u001b[0;31mIndexError\u001b[0m                                Traceback (most recent call last)",
      "\u001b[0;32m<ipython-input-70-77efae291574>\u001b[0m in \u001b[0;36m<module>\u001b[0;34m()\u001b[0m\n\u001b[0;32m----> 1\u001b[0;31m \u001b[0mconstructArray\u001b[0m\u001b[0;34m(\u001b[0m\u001b[0;36m3\u001b[0m\u001b[0;34m,\u001b[0m \u001b[0;36m2\u001b[0m\u001b[0;34m)\u001b[0m\u001b[0;34m\u001b[0m\u001b[0m\n\u001b[0m",
      "\u001b[0;32m<ipython-input-69-72110f5d235a>\u001b[0m in \u001b[0;36mconstructArray\u001b[0;34m(n, k)\u001b[0m\n\u001b[1;32m     12\u001b[0m             \u001b[0mnew_num\u001b[0m \u001b[0;34m=\u001b[0m \u001b[0msol\u001b[0m\u001b[0;34m[\u001b[0m\u001b[0mi\u001b[0m\u001b[0;34m-\u001b[0m\u001b[0;36m1\u001b[0m\u001b[0;34m]\u001b[0m \u001b[0;34m+\u001b[0m \u001b[0mstep\u001b[0m\u001b[0;34m\u001b[0m\u001b[0m\n\u001b[1;32m     13\u001b[0m             \u001b[0mprint\u001b[0m\u001b[0;34m(\u001b[0m\u001b[0mnew_num\u001b[0m\u001b[0;34m)\u001b[0m\u001b[0;34m\u001b[0m\u001b[0m\n\u001b[0;32m---> 14\u001b[0;31m             \u001b[0msol\u001b[0m\u001b[0;34m[\u001b[0m\u001b[0mnew_num\u001b[0m \u001b[0;34m-\u001b[0m \u001b[0;36m1\u001b[0m\u001b[0;34m]\u001b[0m \u001b[0;34m=\u001b[0m \u001b[0msol\u001b[0m\u001b[0;34m[\u001b[0m\u001b[0mi\u001b[0m\u001b[0;34m]\u001b[0m\u001b[0;34m\u001b[0m\u001b[0m\n\u001b[0m\u001b[1;32m     15\u001b[0m             \u001b[0msol\u001b[0m\u001b[0;34m[\u001b[0m\u001b[0mi\u001b[0m\u001b[0;34m]\u001b[0m \u001b[0;34m=\u001b[0m \u001b[0mnew_num\u001b[0m\u001b[0;34m\u001b[0m\u001b[0m\n\u001b[1;32m     16\u001b[0m             \u001b[0mstep\u001b[0m \u001b[0;34m+=\u001b[0m \u001b[0;36m1\u001b[0m\u001b[0;34m\u001b[0m\u001b[0m\n",
      "\u001b[0;31mIndexError\u001b[0m: list assignment index out of range"
     ]
    }
   ],
   "source": [
    "constructArray(3, 2)"
   ]
  },
  {
   "cell_type": "code",
   "execution_count": null,
   "metadata": {},
   "outputs": [],
   "source": []
  }
 ],
 "metadata": {
  "kernelspec": {
   "display_name": "Python 3",
   "language": "python",
   "name": "python3"
  },
  "language_info": {
   "codemirror_mode": {
    "name": "ipython",
    "version": 3
   },
   "file_extension": ".py",
   "mimetype": "text/x-python",
   "name": "python",
   "nbconvert_exporter": "python",
   "pygments_lexer": "ipython3",
   "version": "3.6.4"
  }
 },
 "nbformat": 4,
 "nbformat_minor": 2
}
